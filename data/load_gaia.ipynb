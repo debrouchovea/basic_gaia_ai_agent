{
 "cells": [
  {
   "cell_type": "code",
   "execution_count": 4,
   "id": "a8ed7c7e",
   "metadata": {},
   "outputs": [],
   "source": [
    "from huggingface_hub import login, snapshot_download\n",
    "import datasets\n",
    "import os as os\n",
    "def load_gaia_dataset(use_raw_dataset: bool, set_to_run: str) -> datasets.Dataset:\n",
    "    if not os.path.exists(\"gaia\"):\n",
    "        if use_raw_dataset:\n",
    "            snapshot_download(\n",
    "                repo_id=\"gaia-benchmark/GAIA\",\n",
    "                repo_type=\"dataset\",\n",
    "                local_dir=\"gaia\",\n",
    "                ignore_patterns=[\".gitattributes\", \"README.md\"],\n",
    "            )\n",
    "        else:\n",
    "            # WARNING: this dataset is gated: make sure you visit the repo to require access.\n",
    "            snapshot_download(\n",
    "                repo_id=\"smolagents/GAIA-annotated\",\n",
    "                repo_type=\"dataset\",\n",
    "                local_dir=\"gaia\",\n",
    "                ignore_patterns=[\".gitattributes\", \"README.md\"],\n",
    "            )\n",
    "\n",
    "    def preprocess_file_paths(row):\n",
    "        if len(row[\"file_name\"]) > 0:\n",
    "            row[\"file_name\"] = f\"gaia/{set_to_run}/\" + row[\"file_name\"]\n",
    "        return row\n",
    "\n",
    "    eval_ds = datasets.load_dataset(\n",
    "        \"gaia-benchmark/GAIA\",\n",
    "        name=\"2023_level1\",\n",
    "        split=set_to_run,\n",
    "        # data_files={\"validation\": \"validation/metadata.jsonl\", \"test\": \"test/metadata.jsonl\"},\n",
    "    )\n",
    "\n",
    "    eval_ds = eval_ds.rename_columns({\"Question\": \"question\", \"Final answer\": \"true_answer\", \"Level\": \"task\"})\n",
    "    eval_ds = eval_ds.map(preprocess_file_paths)\n",
    "    return eval_ds\n"
   ]
  },
  {
   "cell_type": "code",
   "execution_count": 5,
   "id": "ab67f87d",
   "metadata": {},
   "outputs": [
    {
     "name": "stderr",
     "output_type": "stream",
     "text": [
      "Fetching 161 files: 100%|██████████| 161/161 [00:15<00:00, 10.26it/s]\n"
     ]
    }
   ],
   "source": [
    "q = load_gaia_dataset(use_raw_dataset=False, set_to_run=\"test\")\n"
   ]
  },
  {
   "cell_type": "code",
   "execution_count": 3,
   "id": "330d3c54",
   "metadata": {},
   "outputs": [
    {
     "name": "stdout",
     "output_type": "stream",
     "text": [
      "Loaded evaluation dataset:\n",
      "task\n",
      "1    93\n",
      "Name: count, dtype: int64\n"
     ]
    }
   ],
   "source": [
    "import pandas as pd\n",
    "print(\"Loaded evaluation dataset:\")\n",
    "print(pd.DataFrame(q)[\"task\"].value_counts())\n"
   ]
  },
  {
   "cell_type": "code",
   "execution_count": null,
   "id": "ed513db2",
   "metadata": {},
   "outputs": [],
   "source": [
    "# q = load_gaia_dataset(use_raw_dataset=False, set_to_run=\"validation\")\n",
    "from datasets import load_dataset\n",
    "load_dotenv()\n",
    "dataset = load_dataset(\"gaia-benchmark/GAIA\", '2023_level2')\n",
    "print(dataset)\n"
   ]
  }
 ],
 "metadata": {
  "kernelspec": {
   "display_name": "venv",
   "language": "python",
   "name": "python3"
  },
  "language_info": {
   "codemirror_mode": {
    "name": "ipython",
    "version": 3
   },
   "file_extension": ".py",
   "mimetype": "text/x-python",
   "name": "python",
   "nbconvert_exporter": "python",
   "pygments_lexer": "ipython3",
   "version": "3.13.3"
  }
 },
 "nbformat": 4,
 "nbformat_minor": 5
}
